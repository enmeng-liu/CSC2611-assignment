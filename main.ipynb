{
 "cells": [
  {
   "cell_type": "markdown",
   "metadata": {},
   "source": [
    "Preparations: import model, manually input rg65"
   ]
  },
  {
   "cell_type": "code",
   "execution_count": 1,
   "metadata": {},
   "outputs": [],
   "source": [
    "rg65 = ('cord', 'smile', 'rooster', 'voyage', 'noon', 'string', 'fruit', 'furnace', 'autograph', 'shore',\n",
    "     'automobile', 'wizard', 'mound' ,'stove', 'grin', 'implement', 'asylum', 'fruit', 'asylum', 'monk',\n",
    "     'graveyard', 'madhouse', 'glass', 'magician', 'boy', 'rooster', 'cushion','jewel', 'monk', 'slave',\n",
    "     'asylum', 'cemetery', 'coast', 'forest', 'grin', 'lad', 'shore', 'woodland', 'monk', 'oracle',\n",
    "     'boy', 'sage', 'automobile', 'cushion', 'mound', 'shore', 'lad', 'wizard', 'forest', 'graveyard',\n",
    "     'food', 'rooster', 'cemetery', 'woodland', 'shore', 'voyage', 'bird', 'woodland', 'coast', 'hill',\n",
    "     'furnace', 'implement', 'crane', 'rooster', 'hill', 'woodland', 'car', 'journey', 'cemetery', 'mound',\n",
    "     'glass', 'jewel', 'magician', 'oracle', 'crane', 'implement', 'brother', 'lad', 'sage', 'wizard',\n",
    "     'oracle', 'sage', 'bird', 'crane', 'bird', 'cock', 'food', 'fruit', 'brother', 'monk',\n",
    "     'asylum', 'madhouse', 'furnace', 'stove', 'magician', 'wizard', 'hill', 'mound', 'cord', 'string',\n",
    "     'glass', 'tumbler', 'grin', 'smile', 'serf', 'slave', 'journey', 'voyage', 'autograph', 'signature',\n",
    "     'coast', 'shore', 'forest', 'woodland', 'implement', 'tool', 'cock', 'rooster', 'boy', 'lad',\n",
    "     'cushion', 'pillow', 'cemetery', 'graveyard', 'automobile', 'car', 'midday', 'noon', 'gem', 'jewel')"
   ]
  },
  {
   "cell_type": "code",
   "execution_count": 23,
   "metadata": {},
   "outputs": [],
   "source": [
    "# Dependencies\n",
    "from gensim.models import KeyedVectors\n",
    "from scipy.spatial import distance\n",
    "import pickle\n",
    "from scipy import stats\n",
    "import numpy as np\n",
    "from sklearn.neighbors import NearestNeighbors"
   ]
  },
  {
   "cell_type": "markdown",
   "metadata": {},
   "source": [
    "# Synchronic word embedding"
   ]
  },
  {
   "cell_type": "code",
   "execution_count": 3,
   "metadata": {},
   "outputs": [],
   "source": [
    "model = KeyedVectors.load_word2vec_format('GoogleNews-vectors-negative300.bin', binary=True)"
   ]
  },
  {
   "cell_type": "markdown",
   "metadata": {},
   "source": [
    "Comparison of rg65 human similarities with Word2vec similarities"
   ]
  },
  {
   "cell_type": "code",
   "execution_count": 7,
   "metadata": {},
   "outputs": [
    {
     "data": {
      "text/plain": [
       "0.23905426263809204"
      ]
     },
     "execution_count": 7,
     "metadata": {},
     "output_type": "execute_result"
    }
   ],
   "source": [
    "# Calculate cosine distance between each pair of word embeddings you have extracted\n",
    "cos_dist = []\n",
    "for i in range(0, 65):\n",
    "    cos_dist.append(distance.cosine(model[rg65[i+i]], model[rg65[i+i+1]]))"
   ]
  },
  {
   "cell_type": "code",
   "execution_count": 16,
   "metadata": {},
   "outputs": [
    {
     "data": {
      "text/plain": [
       "(-0.7720616169177827, 5.091063082040406e-14)"
      ]
     },
     "execution_count": 16,
     "metadata": {},
     "output_type": "execute_result"
    }
   ],
   "source": [
    "# report the Pearson correlation between word2vec-based and human similarities\n",
    "human_similarity = (0.02, 0.04, 0.04, 0.05, 0.06, 0.11, 0.14, 0.18, 0.19, 0.39,\n",
    "                    0.42, 0.44, 0.44, 0.45, 0.57, 0.79, 0.85, 0.88, 0.90, 0.91,\n",
    "                    0.96, 0.97, 0.97, 0.99, 1.00, 1.09, 1.18, 1.22, 1.24, 1.26,\n",
    "                    1.37, 1.41, 1.48, 1.55, 1.69, 1.78, 1.82, 2.37, 2.41, 2.46,\n",
    "                    2.61, 2.63, 2.63, 2.69, 2.74, 3.04, 3.11, 3.21, 3.29, 3.41,\n",
    "                    3.45, 3.46, 3.46, 3.58, 3.59, 3.60, 3.65, 3.66, 3.68, 3.82,\n",
    "                    3.84, 3.88, 3.92, 3.94, 3.94)\n",
    "stats.pearsonr(cos_dist, human_similarity)"
   ]
  },
  {
   "cell_type": "markdown",
   "metadata": {},
   "source": [
    "Analogy test"
   ]
  },
  {
   "cell_type": "code",
   "execution_count": 4,
   "metadata": {},
   "outputs": [],
   "source": [
    "# Function for analogy test\n",
    "def analogical_reasoning(wa1, wa2, wb1):\n",
    "    result = model.most_similar(positive=[wa2, wb1], negative=[wa1])\n",
    "    most_similar_key, similarity = result[0]  # look at the first match\n",
    "    return most_similar_key"
   ]
  },
  {
   "cell_type": "code",
   "execution_count": 6,
   "metadata": {},
   "outputs": [],
   "source": [
    "def analogy_test_accuracy(file):\n",
    "    correct, total = 0, 0\n",
    "    with open(file) as f:\n",
    "        for line in f:\n",
    "            total += 1\n",
    "            words = line.strip().split(\" \")\n",
    "            res = analogical_reasoning(words[0], words[1], words[2])\n",
    "            if(res == words[3]):\n",
    "                correct += 1\n",
    "    return correct/float(total)"
   ]
  },
  {
   "cell_type": "code",
   "execution_count": 7,
   "metadata": {},
   "outputs": [
    {
     "data": {
      "text/plain": [
       "0.9"
      ]
     },
     "execution_count": 7,
     "metadata": {},
     "output_type": "execute_result"
    }
   ],
   "source": [
    "analogy_test_accuracy(\"tests\\word-test-semantic.txt\")"
   ]
  },
  {
   "cell_type": "code",
   "execution_count": 8,
   "metadata": {},
   "outputs": [
    {
     "data": {
      "text/plain": [
       "0.6757028112449799"
      ]
     },
     "execution_count": 8,
     "metadata": {},
     "output_type": "execute_result"
    }
   ],
   "source": [
    "analogy_test_accuracy(\"tests\\word-test-syntactic.txt\")"
   ]
  },
  {
   "cell_type": "markdown",
   "metadata": {},
   "source": [
    "# Diachronic word embedding\n",
    "Propose three different methods for measuring degree of semantic change for individual words."
   ]
  },
  {
   "cell_type": "code",
   "execution_count": 43,
   "metadata": {},
   "outputs": [],
   "source": [
    "diachronic = pickle.load(open(\"data.pkl\", \"rb\"))\n",
    "diachronic_vectors = diachronic['E']\n",
    "nwords = len(diachronic['w'])"
   ]
  },
  {
   "cell_type": "code",
   "execution_count": null,
   "metadata": {},
   "outputs": [],
   "source": [
    "# Cosine similarity\n",
    "dia_cos = {}\n",
    "for i,word in enumerate(diachronic['w']):\n",
    "    dia_cos[word] = distance.cosine(diachronic_vectors[i][0], diachronic_vectors[i][9])\n",
    "dia_cos_sorted = dict(sorted(dia_cos.items(), key=lambda item: -item[1]))\n",
    "dia_cos_sorted"
   ]
  },
  {
   "cell_type": "code",
   "execution_count": null,
   "metadata": {},
   "outputs": [],
   "source": [
    "# Pearson correlation\n",
    "dia_pearson = {}\n",
    "for i,word in enumerate(diachronic['w']):\n",
    "    dia_pearson[word] = stats.pearsonr(diachronic_vectors[i][0], diachronic_vectors[i][9])[0]\n",
    "dia_pearson_sorted = dict(sorted(dia_pearson.items(), key=lambda item: item[1]))\n",
    "dia_pearson_sorted"
   ]
  },
  {
   "cell_type": "code",
   "execution_count": null,
   "metadata": {},
   "outputs": [],
   "source": [
    "# kNN\n",
    "space_1900 = np.array([diachronic_vectors[i][0] for i in range(0, len(diachronic['w']))])\n",
    "knn_1900 = NearestNeighbors(n_neighbors=25, algorithm='brute', metric=\"cosine\").fit(space_1900)\n",
    "space_1990 = np.array([diachronic_vectors[i][9] for i in range(0, len(diachronic['w']))])\n",
    "knn_1990 = NearestNeighbors(n_neighbors=25, algorithm='brute', metric=\"cosine\").fit(space_1990)\n",
    "\n",
    "knn_dist = {}\n",
    "for i,w in enumerate(diachronic['w']):\n",
    "    knn_1900_id = knn_1900.kneighbors(np.array([diachronic_vectors[i][0],]))[1][0].tolist()\n",
    "    knn_1990_id = knn_1990.kneighbors(np.array([diachronic_vectors[i][9],]))[1][0].tolist()\n",
    "    nbrs = set(knn_1900_id).union(set(knn_1990_id))\n",
    "    second_sim_1900 = np.array([1-distance.cosine(diachronic_vectors[i][0], diachronic_vectors[j][0]) for j in nbrs])\n",
    "    second_sim_1990 = np.array([1-distance.cosine(diachronic_vectors[i][9], diachronic_vectors[j][9]) for j in nbrs])\n",
    "    knn_dist[w] = distance.cosine(second_sim_1900, second_sim_1990)\n",
    "\n",
    "knn_dist_sorted = dict(sorted(knn_dist.items(), key=lambda item: -item[1]))\n",
    "knn_dist_sorted"
   ]
  },
  {
   "cell_type": "code",
   "execution_count": 63,
   "metadata": {},
   "outputs": [
    {
     "name": "stdout",
     "output_type": "stream",
     "text": [
      "k-NN:\n",
      "['objectives', 'radio', 'approach', 'computer', 'sector', 'impact', 'film', 'signal', 'programs', 'assessment', 'mcgraw', 'skills', 'focus', 'ml', 'techniques', 'media', 'patterns', 'models', 'framework', 'goals']\n",
      "['shore', 'evening', 'georgia', 'september', 'father', 'april', 'wife', 'autumn', 'night', 'ohio', 'june', 'mother', 'snow', 'january', 'iowa', 'summer', 'december', 'afternoon', 'coast', 'months']\n",
      "Cosine distance:\n",
      "['programs', 'objectives', 'computer', 'radio', 'sector', 'goals', 'approach', 'van', 'shri', 'media', 'impact', 'perspective', 'patterns', 'berkeley', 'shift', 'film', 'assessment', 'stanford', 'challenge', 'therapy']\n",
      "['week', 'feet', 'september', 'god', 'december', 'daughter', 'months', 'century', 'january', 'increase', 'october', 'years', 'february', 'november', 'june', 'april', 'techniques', 'skills', 'mcgraw', 'ml']\n",
      "Pearson correlation:\n",
      "['programs', 'objectives', 'computer', 'approach', 'impact', 'signal', 'file', 'bar', 'drive', 'johnson', 'reserve', 'intelligence', 'agency', 'ray', 'club', 'publishing', 'mode', 'emphasis', 'row', 'grand']\n",
      "['miles', 'payment', 'evening', 'week', 'door', 'feet', 'september', 'god', 'december', 'daughter', 'months', 'century', 'january', 'increase', 'october', 'february', 'years', 'november', 'june', 'april']\n"
     ]
    }
   ],
   "source": [
    "# top20 and least20\n",
    "print(\"k-NN:\")\n",
    "print(list(knn_dist_sorted.keys())[:20])\n",
    "print(list(knn_dist_sorted.keys())[-20:])\n",
    "print(\"Cosine distance:\")\n",
    "print(list(dia_cos_sorted.keys())[:20])\n",
    "print(list(dia_cos_sorted.keys())[-20:])\n",
    "print(\"Pearson correlation:\")\n",
    "print(list(dia_pearson_sorted.keys())[:20])\n",
    "print(list(dia_pearson_sorted.keys())[-20:])"
   ]
  },
  {
   "cell_type": "code",
   "execution_count": 73,
   "metadata": {},
   "outputs": [
    {
     "name": "stdout",
     "output_type": "stream",
     "text": [
      "cos pearson 0.05789368211206525\n",
      "cos knn 0.20403821816250622\n",
      "pearson knn 0.3465333141444966\n"
     ]
    }
   ],
   "source": [
    "# Pearson correlation of the 3 metrics to detect semantic change\n",
    "cos_original_order = []\n",
    "pearson_original_order = []\n",
    "knn_original_order = []\n",
    "for i,w in enumerate(diachronic['w']):\n",
    "    cos_original_order.append(dia_cos_sorted[w])\n",
    "    pearson_original_order.append(dia_pearson_sorted[w])\n",
    "    knn_original_order.append(knn_dist_sorted[w])\n",
    "cos_original_order = np.array(cos_original_order)\n",
    "pearson_original_order = np.nan_to_num(pearson_original_order)\n",
    "knn_original_order = np.array(knn_original_order)\n",
    "print(\"cos\", \"pearson\", distance.cosine(cos_original_order, pearson_original_order))\n",
    "print(\"cos\", \"knn\", distance.cosine(cos_original_order, knn_original_order))\n",
    "print(\"pearson\", \"knn\", distance.cosine(pearson_original_order, knn_original_order))"
   ]
  },
  {
   "cell_type": "code",
   "execution_count": 79,
   "metadata": {},
   "outputs": [
    {
     "data": {
      "text/plain": [
       "['card', 'sleep', 'parent', 'address', 'king', 'cell']"
      ]
     },
     "execution_count": 79,
     "metadata": {},
     "output_type": "execute_result"
    }
   ],
   "source": [
    "# Reference dataset\n",
    "import csv\n",
    "changed_words = []\n",
    "with open('tests/ChangedWords.csv') as csvfile:\n",
    "    csvreader = csv.reader(csvfile)\n",
    "    for row in csvreader:\n",
    "        if row[1] in diachronic['w']:\n",
    "            changed_words.append(row[1])\n",
    "changed_words"
   ]
  },
  {
   "cell_type": "code",
   "execution_count": 123,
   "metadata": {},
   "outputs": [
    {
     "name": "stdout",
     "output_type": "stream",
     "text": [
      "0 0.005\n",
      "1 0.005\n",
      "2 0.005\n",
      "3 0.01\n",
      "4 0.01\n",
      "5 0.01\n",
      "----------\n",
      "0 0.0\n",
      "1 0.0\n",
      "2 0.0\n",
      "3 0.0\n",
      "4 0.0\n",
      "5 0.0\n",
      "----------\n",
      "0 0.0\n",
      "1 0.0\n",
      "2 0.0\n",
      "3 0.005\n",
      "4 0.005\n",
      "5 0.005\n",
      "----------\n"
     ]
    }
   ],
   "source": [
    "# Precision@k\n",
    "top_num = 200\n",
    "metrics = [dia_cos_sorted, dia_pearson_sorted, knn_dist_sorted]\n",
    "for metric in metrics:\n",
    "    top = list(metric.keys())[:top_num]\n",
    "    hit = 0\n",
    "    for k, w in enumerate(changed_words):\n",
    "        if w in top:\n",
    "            hit += 1\n",
    "        precision_at_k = hit / top_num\n",
    "        print(k, precision_at_k)\n",
    "    print(\"----------\")"
   ]
  },
  {
   "cell_type": "code",
   "execution_count": 150,
   "metadata": {},
   "outputs": [
    {
     "data": {
      "text/plain": [
       "'0.0,0.0,0.0,0.0,0.6495,0.3183,0.2461,0.249,0.2182'"
      ]
     },
     "execution_count": 150,
     "metadata": {},
     "output_type": "execute_result"
    }
   ],
   "source": [
    "# Change point detection\n",
    "word = \"computer\"\n",
    "word_id = -1\n",
    "for i,w in enumerate(diachronic['w']):\n",
    "    if w == word:\n",
    "        word_id = i\n",
    "        break\n",
    "dists = []\n",
    "for y in range(0, 9):\n",
    "    dists.append(distance.cosine(diachronic_vectors[word_id][y], diachronic_vectors[word_id][y+1]))\n",
    "\",\".join(\"{:.4}\".format(float(d)) for d in dists)"
   ]
  },
  {
   "cell_type": "code",
   "execution_count": 151,
   "metadata": {},
   "outputs": [
    {
     "data": {
      "text/plain": [
       "[(0.035970263514305205, 0.10399621332402481),\n",
       " (0.0, 0.0),\n",
       " (0.0, 0.0),\n",
       " (0.0, 0.0),\n",
       " (-0.04230543169730695, 0.03431170534139141),\n",
       " (-0.09982404350730054, -0.07045332053539204),\n",
       " (-0.013464379551841385, -0.0498952510218078),\n",
       " (-0.0004912758785073442, -0.1028516091471856),\n",
       " (-0.034831764124726695, -0.15269380613166209),\n",
       " (-0.02693115350797087, -0.12838902258049323)]"
      ]
     },
     "execution_count": 151,
     "metadata": {},
     "output_type": "execute_result"
    }
   ],
   "source": [
    "# Get the first 2 dimensions to make 2D-arrays for visualization\n",
    "verts = []\n",
    "for y in range(0, 10):\n",
    "    verts.append((diachronic_vectors[word_id][y][0], diachronic_vectors[word_id][y][1]))\n",
    "verts"
   ]
  },
  {
   "cell_type": "code",
   "execution_count": 156,
   "metadata": {},
   "outputs": [
    {
     "data": {
      "image/png": "[encoded data removed]",
      "text/plain": [
       "<Figure size 720x432 with 1 Axes>"
      ]
     },
     "metadata": {
      "needs_background": "light"
     },
     "output_type": "display_data"
    }
   ],
   "source": [
    "# Plot\n",
    "import matplotlib.pyplot as plt\n",
    "plt.figure(figsize=(10,6))\n",
    "plt.xlim(-0.15, 0.1)\n",
    "plt.ylim(-0.2, 0.15)\n",
    "for i in range(0, 10):\n",
    "    plt.text(verts[i][0], verts[i][1], str(1900+i*10))\n",
    "    plt.plot(verts[i][0], verts[i][1], 'o')\n",
    "for i in range(0, 9):\n",
    "    plt.plot((verts[i][0], verts[i+1][0]), (verts[i][1], verts[i+1][1]))\n",
    "plt.show()"
   ]
  }
 ],
 "metadata": {
  "interpreter": {
   "hash": "e39bb4bc0dd09b8d636f7de561eaa609baf178136a5651a1bfee988d4f249979"
  },
  "kernelspec": {
   "display_name": "Python 3.9.7 64-bit ('csc2611': conda)",
   "language": "python",
   "name": "python3"
  },
  "language_info": {
   "codemirror_mode": {
    "name": "ipython",
    "version": 3
   },
   "file_extension": ".py",
   "mimetype": "text/x-python",
   "name": "python",
   "nbconvert_exporter": "python",
   "pygments_lexer": "ipython3",
   "version": "3.9.7"
  },
  "orig_nbformat": 4
 },
 "nbformat": 4,
 "nbformat_minor": 2
}
